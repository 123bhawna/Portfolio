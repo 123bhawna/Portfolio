{
  "nbformat": 4,
  "nbformat_minor": 0,
  "metadata": {
    "colab": {
      "name": "Bhawna-midsem-part2.ipynb",
      "provenance": [],
      "collapsed_sections": [],
      "authorship_tag": "ABX9TyOtr67sWFRoEUxrYfe84TT1",
      "include_colab_link": true
    },
    "kernelspec": {
      "name": "python3",
      "display_name": "Python 3"
    },
    "language_info": {
      "name": "python"
    }
  },
  "cells": [
    {
      "cell_type": "markdown",
      "metadata": {
        "id": "view-in-github",
        "colab_type": "text"
      },
      "source": [
        "<a href=\"https://colab.research.google.com/github/123bhawna/Portfolio/blob/main/Bhawna_midsem_part2.ipynb\" target=\"_parent\"><img src=\"https://colab.research.google.com/assets/colab-badge.svg\" alt=\"Open In Colab\"/></a>"
      ]
    },
    {
      "cell_type": "code",
      "source": [
        "import random \n",
        "import numpy as np"
      ],
      "metadata": {
        "id": "U6IVaHKYS8Nk"
      },
      "execution_count": 1,
      "outputs": []
    },
    {
      "cell_type": "code",
      "execution_count": 38,
      "metadata": {
        "colab": {
          "base_uri": "https://localhost:8080/"
        },
        "id": "0aS1NerASNff",
        "outputId": "e90e99c6-96ac-45fc-bcb2-8a7238614c18"
      },
      "outputs": [
        {
          "output_type": "execute_result",
          "data": {
            "text/plain": [
              "21.072376720474043"
            ]
          },
          "metadata": {},
          "execution_count": 38
        }
      ],
      "source": [
        "# step 1 - 1000 draws from uniform distribution of [20, 70]\n",
        "X = np.random.uniform(20.0, 70.0, 1000)\n",
        "X[2]"
      ]
    },
    {
      "cell_type": "code",
      "source": [
        "# step 2 - 1000 draws from normal distribution, mean = 0, var = 25\n",
        "mu = 0\n",
        "std = 25\n",
        "epsilon = np.random.normal(mu, std, 1000)\n",
        "epsilon[2]"
      ],
      "metadata": {
        "colab": {
          "base_uri": "https://localhost:8080/"
        },
        "id": "06ggLMy2TsXr",
        "outputId": "05dcc38f-5107-4498-f369-c8adaa38e54f"
      },
      "execution_count": 39,
      "outputs": [
        {
          "output_type": "execute_result",
          "data": {
            "text/plain": [
              "13.620916699846392"
            ]
          },
          "metadata": {},
          "execution_count": 39
        }
      ]
    },
    {
      "cell_type": "code",
      "source": [
        "# step 3 - creating Yi values, beta0 = 10, beta1 = 2\n",
        "beta0 = 10\n",
        "beta1 = 2\n",
        "Y = beta0 + beta1*X + epsilon\n",
        "Y[2]"
      ],
      "metadata": {
        "colab": {
          "base_uri": "https://localhost:8080/"
        },
        "id": "x40__4v0U1Gm",
        "outputId": "4a0031cf-a898-4fc5-b8f7-1aeeb9ce9f62"
      },
      "execution_count": 40,
      "outputs": [
        {
          "output_type": "execute_result",
          "data": {
            "text/plain": [
              "65.76567014079448"
            ]
          },
          "metadata": {},
          "execution_count": 40
        }
      ]
    },
    {
      "cell_type": "code",
      "source": [
        "# step 4 - random sample of size 100 from 1000 sample of X and Y\n",
        "import statsmodels.api as sm\n",
        "\n",
        "idx_100 = []\n",
        "X_100 = []\n",
        "Y_100 = []\n",
        "for i in range (100):\n",
        "  idx = random.randint(0,999)\n",
        "  idx_100.append(idx)\n",
        "  X_100.append(X[idx])\n",
        "  Y_100.append(Y[idx])\n",
        "\n",
        "X_100 = sm.add_constant(X_100)\n",
        "result = sm.OLS(Y_100, X_100).fit()\n",
        "print(result.summary())"
      ],
      "metadata": {
        "colab": {
          "base_uri": "https://localhost:8080/"
        },
        "id": "R_m2XAiwVN1x",
        "outputId": "1e82f267-b178-4d8a-d53a-dda7a925b6a5"
      },
      "execution_count": 41,
      "outputs": [
        {
          "output_type": "stream",
          "name": "stdout",
          "text": [
            "                            OLS Regression Results                            \n",
            "==============================================================================\n",
            "Dep. Variable:                      y   R-squared:                       0.509\n",
            "Model:                            OLS   Adj. R-squared:                  0.504\n",
            "Method:                 Least Squares   F-statistic:                     101.5\n",
            "Date:                Fri, 11 Mar 2022   Prob (F-statistic):           8.37e-17\n",
            "Time:                        10:48:43   Log-Likelihood:                -471.06\n",
            "No. Observations:                 100   AIC:                             946.1\n",
            "Df Residuals:                      98   BIC:                             951.3\n",
            "Df Model:                           1                                         \n",
            "Covariance Type:            nonrobust                                         \n",
            "==============================================================================\n",
            "                 coef    std err          t      P>|t|      [0.025      0.975]\n",
            "------------------------------------------------------------------------------\n",
            "const         13.5976      8.985      1.513      0.133      -4.234      31.429\n",
            "x1             1.9145      0.190     10.074      0.000       1.537       2.292\n",
            "==============================================================================\n",
            "Omnibus:                        1.100   Durbin-Watson:                   1.624\n",
            "Prob(Omnibus):                  0.577   Jarque-Bera (JB):                0.713\n",
            "Skew:                           0.191   Prob(JB):                        0.700\n",
            "Kurtosis:                       3.157   Cond. No.                         156.\n",
            "==============================================================================\n",
            "\n",
            "Warnings:\n",
            "[1] Standard Errors assume that the covariance matrix of the errors is correctly specified.\n"
          ]
        }
      ]
    },
    {
      "cell_type": "code",
      "source": [
        "result.params"
      ],
      "metadata": {
        "colab": {
          "base_uri": "https://localhost:8080/"
        },
        "id": "5saDLAElY1bz",
        "outputId": "efdaee58-4079-4d4a-cc95-88f321ee9ea9"
      },
      "execution_count": 43,
      "outputs": [
        {
          "output_type": "execute_result",
          "data": {
            "text/plain": [
              "array([13.59755398,  1.91450637])"
            ]
          },
          "metadata": {},
          "execution_count": 43
        }
      ]
    },
    {
      "cell_type": "markdown",
      "source": [
        "estimated beta1 = 1.92"
      ],
      "metadata": {
        "id": "rzvucRFgXTIs"
      }
    },
    {
      "cell_type": "code",
      "source": [
        "# step 5 - repeat step 4 500 times \n",
        "beta1_hat = []\n",
        "for s in range(500):\n",
        "  idx_100 = []\n",
        "  X_100 = []\n",
        "  Y_100 = []\n",
        "  for i in range (100):\n",
        "    idx = random.randint(0,999)\n",
        "    idx_100.append(idx)\n",
        "    X_100.append(X[idx])\n",
        "    Y_100.append(Y[idx])\n",
        "\n",
        "  X_100 = sm.add_constant(X_100)\n",
        "  result = sm.OLS(Y_100, X_100).fit()\n",
        "  beta1_hat.append(result.params[1])\n",
        "\n",
        "print(sum(beta1_hat)/len(beta1_hat))"
      ],
      "metadata": {
        "colab": {
          "base_uri": "https://localhost:8080/"
        },
        "id": "MXg4Qr-3Xdu2",
        "outputId": "f646d74b-74df-414f-b1a8-080d7a7249d6"
      },
      "execution_count": 44,
      "outputs": [
        {
          "output_type": "stream",
          "name": "stdout",
          "text": [
            "2.0229524894763045\n"
          ]
        }
      ]
    },
    {
      "cell_type": "code",
      "source": [
        "#step 6 - densilty of beat1_hat\n",
        "\n",
        "from matplotlib import pyplot as plt\n",
        "fig, ax = plt.subplots(figsize=(10,7))\n",
        "ax.hist(beta1_hat)\n",
        "plt.show()\n",
        "\n",
        "counts, bins = np.histogram(beta1_hat)\n",
        "mids = 0.5*(bins[1:] + bins[:-1])\n",
        "probs = counts/np.sum(counts)\n",
        "\n",
        "mean = np.sum(probs*mids)\n",
        "sd = np.sqrt(np.sum(probs*(mids-mean)**2))\n",
        "\n",
        "print(\"mean:\", mean)\n",
        "print(\"standard deviation:\", sd)"
      ],
      "metadata": {
        "colab": {
          "base_uri": "https://localhost:8080/",
          "height": 464
        },
        "id": "WBDq6qiFYlj7",
        "outputId": "dd943cf2-18ad-445a-f6a2-029c462bc5b0"
      },
      "execution_count": 46,
      "outputs": [
        {
          "output_type": "display_data",
          "data": {
            "image/png": "[encoded data removed]",
            "text/plain": [
              "<Figure size 720x504 with 1 Axes>"
            ]
          },
          "metadata": {
            "needs_background": "light"
          }
        },
        {
          "output_type": "stream",
          "name": "stdout",
          "text": [
            "mean: 2.023556966320744\n",
            "standard deviation: 0.16875273752563802\n"
          ]
        }
      ]
    },
    {
      "cell_type": "code",
      "source": [
        "#step 7\n",
        "import statistics\n",
        "\n",
        "mean = np.mean(beta1_hat)\n",
        "std = statistics.variance(beta1_hat)**0.5\n",
        "\n",
        "lb = mean-std\n",
        "ub = mean+std\n",
        "\n",
        "filtered_list = list(filter(lambda t: t>=lb and t<ub, beta1_hat))\n",
        "print(len(filtered_list)/len(beta1_hat))\n",
        "\n",
        "lb = mean-2*std\n",
        "ub = mean+2*std\n",
        "\n",
        "filtered_list = list(filter(lambda t: t>=lb and t<ub, beta1_hat))\n",
        "print(len(filtered_list)/len(beta1_hat))"
      ],
      "metadata": {
        "colab": {
          "base_uri": "https://localhost:8080/"
        },
        "id": "GKoHLosqap8B",
        "outputId": "f4f55ec6-84c5-47a9-ae8f-e8202ae9b489"
      },
      "execution_count": 47,
      "outputs": [
        {
          "output_type": "stream",
          "name": "stdout",
          "text": [
            "0.68\n",
            "0.966\n"
          ]
        }
      ]
    },
    {
      "cell_type": "code",
      "source": [
        "# step 8 - repeat 4 to 6 with sample size 20\n",
        "\n",
        "idx_20 = []\n",
        "X_20 = []\n",
        "Y_20 = []\n",
        "for i in range (20):\n",
        "  idx = random.randint(0,999)\n",
        "  idx_20.append(idx)\n",
        "  X_20.append(X[idx])\n",
        "  Y_20.append(Y[idx])\n",
        "\n",
        "X_20 = sm.add_constant(X_20)\n",
        "result = sm.OLS(Y_20, X_20).fit()\n",
        "\n",
        "beta1_hat_20 = []\n",
        "for s in range(500):\n",
        "  idx_20 = []\n",
        "  X_20 = []\n",
        "  Y_20 = []\n",
        "  for i in range (20):\n",
        "    idx = random.randint(0,999)\n",
        "    idx_20.append(idx)\n",
        "    X_20.append(X[idx])\n",
        "    Y_20.append(Y[idx])\n",
        "\n",
        "  X_20 = sm.add_constant(X_20)\n",
        "  result_20 = sm.OLS(Y_20, X_20).fit()\n",
        "  beta1_hat_20.append(result_20.params[1])\n",
        "\n",
        "print(sum(beta1_hat_20)/len(beta1_hat_20))"
      ],
      "metadata": {
        "colab": {
          "base_uri": "https://localhost:8080/"
        },
        "id": "IygnC8VQbgUq",
        "outputId": "904d9df7-1a5b-4e65-946c-f08f6fab6a9d"
      },
      "execution_count": 48,
      "outputs": [
        {
          "output_type": "stream",
          "name": "stdout",
          "text": [
            "2.051147062295078\n"
          ]
        }
      ]
    },
    {
      "cell_type": "code",
      "source": [
        "# step 8 - repeat 4 to 6 with sample size 50\n",
        "\n",
        "idx_50 = []\n",
        "X_50 = []\n",
        "Y_50 = []\n",
        "for i in range (50):\n",
        "  idx = random.randint(0,999)\n",
        "  idx_50.append(idx)\n",
        "  X_50.append(X[idx])\n",
        "  Y_50.append(Y[idx])\n",
        "\n",
        "X_50 = sm.add_constant(X_50)\n",
        "result = sm.OLS(Y_50, X_50).fit()\n",
        "\n",
        "beta1_hat_50 = []\n",
        "for s in range(500):\n",
        "  idx_50 = []\n",
        "  X_50 = []\n",
        "  Y_50 = []\n",
        "  for i in range (50):\n",
        "    idx = random.randint(0,999)\n",
        "    idx_50.append(idx)\n",
        "    X_50.append(X[idx])\n",
        "    Y_50.append(Y[idx])\n",
        "\n",
        "  X_50 = sm.add_constant(X_50)\n",
        "  result_50 = sm.OLS(Y_50, X_50).fit()\n",
        "  beta1_hat_50.append(result_50.params[1])\n",
        "\n",
        "print(sum(beta1_hat_50)/len(beta1_hat_50))"
      ],
      "metadata": {
        "colab": {
          "base_uri": "https://localhost:8080/"
        },
        "id": "36GizZrKdnqF",
        "outputId": "2650c799-7ce4-4929-e984-35e979bb9193"
      },
      "execution_count": 49,
      "outputs": [
        {
          "output_type": "stream",
          "name": "stdout",
          "text": [
            "2.0293673263765926\n"
          ]
        }
      ]
    },
    {
      "cell_type": "code",
      "source": [
        "# step 8 - repeat 4 to 6 with sample size 70\n",
        "\n",
        "idx_70 = []\n",
        "X_70 = []\n",
        "Y_70 = []\n",
        "for i in range (70):\n",
        "  idx = random.randint(0,999)\n",
        "  idx_70.append(idx)\n",
        "  X_70.append(X[idx])\n",
        "  Y_70.append(Y[idx])\n",
        "\n",
        "X_70 = sm.add_constant(X_70)\n",
        "result = sm.OLS(Y_70, X_70).fit()\n",
        "\n",
        "beta1_hat_70 = []\n",
        "for s in range(500):\n",
        "  idx_70 = []\n",
        "  X_70 = []\n",
        "  Y_70 = []\n",
        "  for i in range (70):\n",
        "    idx = random.randint(0,999)\n",
        "    idx_70.append(idx)\n",
        "    X_70.append(X[idx])\n",
        "    Y_70.append(Y[idx])\n",
        "\n",
        "  X_70 = sm.add_constant(X_70)\n",
        "  result_70 = sm.OLS(Y_70, X_70).fit()\n",
        "  beta1_hat_70.append(result_70.params[1])\n",
        "\n",
        "print(sum(beta1_hat_70)/len(beta1_hat_70))"
      ],
      "metadata": {
        "colab": {
          "base_uri": "https://localhost:8080/"
        },
        "id": "rwhL5--qdxwo",
        "outputId": "17bf19e8-7210-41bd-a248-5bda73ec6644"
      },
      "execution_count": 53,
      "outputs": [
        {
          "output_type": "stream",
          "name": "stdout",
          "text": [
            "2.0259233960359055\n"
          ]
        }
      ]
    },
    {
      "cell_type": "code",
      "source": [
        "#step 9\n",
        "import statistics\n",
        "y_med = statistics.median(Y)\n",
        "x_med = statistics.median(X)\n",
        "\n",
        "y0_hat = []\n",
        "y1_hat = []\n",
        "x1_hat = []\n",
        "x0_hat = []\n",
        "for i in range(100):\n",
        "  if(X[i] >= x_med):\n",
        "    x1_hat.append(X[i])\n",
        "  else:\n",
        "    x0_hat.append(X[i])\n",
        "\n",
        "  if(Y[i] >= y_med):\n",
        "    y1_hat.append(Y[i])\n",
        "  else:\n",
        "    y0_hat.append(Y[i])\n",
        "\n",
        "x0 = sum(x0_hat)/len(x0_hat) \n",
        "x1 = sum(x1_hat)/len(x1_hat)\n",
        "y0 = sum(y0_hat)/len(y0_hat)\n",
        "y1 =sum(y1_hat)/len(y1_hat)\n",
        "\n",
        "beta1_cap = (y1-y0)/(x1-x0)\n",
        "print(beta1_cap)"
      ],
      "metadata": {
        "colab": {
          "base_uri": "https://localhost:8080/"
        },
        "id": "hNWN4DHreY77",
        "outputId": "9ec9d10a-99c9-4b78-eae3-f9cb761dadc0"
      },
      "execution_count": 51,
      "outputs": [
        {
          "output_type": "stream",
          "name": "stdout",
          "text": [
            "2.3549371064046727\n"
          ]
        }
      ]
    },
    {
      "cell_type": "markdown",
      "source": [
        "**Question 1.1**\n",
        "\n",
        "This is a mathematical technique, which is used to estimate the poissible outcomes of an uncertain event. We are trying to extimate beta1(slope) of linear regression. Simulation is helping with both an understanding of the analytically dervied means and variances of regression estimaters and the intution of sampling distribution.\n",
        "\n",
        "It gives a clearer understanding of the beahviour of OLS estimaters."
      ],
      "metadata": {
        "id": "0ryap4KpjpZY"
      }
    },
    {
      "cell_type": "markdown",
      "source": [
        "**Question 1.2**\n",
        "\n",
        "beta1_hat = 2.02\n",
        "\n",
        "beta1 = 1.91\n",
        "\n",
        "I have taken my initial beata as 2 and when i am reapeating the experiment 500 times then I am getting beta1_hat which is really close to beta1. But when I am running it once it is 1.91; not that close.\n",
        "\n",
        "So, if an experiment is repeated many times than it will give better result (given same sample size)."
      ],
      "metadata": {
        "id": "4lV_42nZk2Nv"
      }
    },
    {
      "cell_type": "markdown",
      "source": [
        "**Question 1.3**\n",
        "\n",
        "beta1 when sample size is 20 = 2.05\n",
        "beta1 when sample size is 50 = 2.029\n",
        "beta1 when sample size is 70 = 2.025\n",
        "\n",
        "So, we can clearly see that when I am incresing the sample size the beta1 value is getting more accurate. It is getting close to 2 which is actual beta1 value."
      ],
      "metadata": {
        "id": "ygVIQ5S3m_EH"
      }
    }
  ]
}